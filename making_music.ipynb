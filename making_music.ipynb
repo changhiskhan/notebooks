{
 "cells": [
  {
   "cell_type": "markdown",
   "metadata": {},
   "source": [
    "# Making music in a Jupyter notebook"
   ]
  },
  {
   "cell_type": "markdown",
   "metadata": {},
   "source": [
    "\n",
    "\n",
    "### \"Music is the universal language of mankind.\"\n",
    "\n",
    "               ― Henry Wadsworth Longfellow\n",
    "                                            \n",
    "                                            "
   ]
  },
  {
   "cell_type": "markdown",
   "metadata": {},
   "source": [
    "\n",
    "### \"Mathematics is the language in which God has written the universe.\"\n",
    "\n",
    "                          ― Galileo Galilei\n",
    "                                                       "
   ]
  },
  {
   "cell_type": "code",
   "execution_count": null,
   "metadata": {},
   "outputs": [],
   "source": [
    "import matplotlib.pyplot as plt\n",
    "import numpy as np\n",
    "\n",
    "from IPython.display import Audio\n",
    "from IPython.display import YouTubeVideo"
   ]
  },
  {
   "cell_type": "markdown",
   "metadata": {},
   "source": [
    "## Music is made of sounds; sound is created by vibrations"
   ]
  },
  {
   "cell_type": "markdown",
   "metadata": {},
   "source": [
    "Let's look at a few seconds of this Youtube video showing guitar strings being strummed in super slow motion"
   ]
  },
  {
   "cell_type": "code",
   "execution_count": null,
   "metadata": {},
   "outputs": [],
   "source": [
    "def play_youtube(url, width=640, height=480, autoplay=1, **kwargs):\n",
    "    id_ = url.split(\"=\")[-1]\n",
    "    return YouTubeVideo(id_, width=width, height=height, **kwargs)"
   ]
  },
  {
   "cell_type": "code",
   "execution_count": null,
   "metadata": {},
   "outputs": [],
   "source": [
    "play_youtube(\"https://www.youtube.com/watch?v=6sgI7S_G-XI\")"
   ]
  },
  {
   "cell_type": "markdown",
   "metadata": {},
   "source": [
    "Q: What do these vibrating strings look like?"
   ]
  },
  {
   "cell_type": "markdown",
   "metadata": {},
   "source": [
    "A: Sine waves!"
   ]
  },
  {
   "cell_type": "markdown",
   "metadata": {},
   "source": [
    "## Music and Trigonometry\n",
    "\n",
    "A sine wave is defined as:\n",
    "\n",
    "### $y(t)=A*sin(2\\pi ft)$\n",
    "1. `f` is frequency (From Mariah Carey to Barry White?)\n",
    "2. `A` is amplitude (From exploding windows to is this thing on?)"
   ]
  },
  {
   "cell_type": "markdown",
   "metadata": {},
   "source": [
    "Frequency is measured in Hertz (Hz), or number of complete cycles per second"
   ]
  },
  {
   "cell_type": "code",
   "execution_count": null,
   "metadata": {},
   "outputs": [],
   "source": [
    "t = np.linspace(0, 1, 320)\n",
    "\n",
    "data = np.sin(2 * np.pi * 1 * t) # <- 1 Hz\n",
    "\n",
    "plt.plot(t, data)\n",
    "plt.grid(True, which='both')\n",
    "plt.axhline(y=0, color='k')"
   ]
  },
  {
   "cell_type": "markdown",
   "metadata": {},
   "source": [
    "### How does that sound?"
   ]
  },
  {
   "cell_type": "markdown",
   "metadata": {},
   "source": [
    "#### WARNING: make sure your volume is not on full blast :)"
   ]
  },
  {
   "cell_type": "code",
   "execution_count": null,
   "metadata": {},
   "outputs": [],
   "source": [
    "# Amplitude (or volume) control is done by your laptop\n",
    "# Let's focus on the frequency\n",
    "def play(freq, sec=1):\n",
    "    framerate = 44100 # <- rate of sampling\n",
    "    t = np.linspace(0, sec, framerate * sec) # <- setup time values\n",
    "    data = np.sin(2 * np.pi * freq * t) # <- sine function formula\n",
    "    return Audio(data, rate=framerate, autoplay=True) # play the generated sound"
   ]
  },
  {
   "cell_type": "code",
   "execution_count": null,
   "metadata": {},
   "outputs": [],
   "source": [
    "play(440) # play a sound at 440 hz for 1 second"
   ]
  },
  {
   "cell_type": "markdown",
   "metadata": {},
   "source": [
    "If we change the frequency, the sound is also different"
   ]
  },
  {
   "cell_type": "code",
   "execution_count": null,
   "metadata": {},
   "outputs": [],
   "source": [
    "play(495)"
   ]
  },
  {
   "cell_type": "code",
   "execution_count": null,
   "metadata": {},
   "outputs": [],
   "source": [
    "play(660)"
   ]
  },
  {
   "cell_type": "markdown",
   "metadata": {},
   "source": [
    "### Fundamentally this is how instruments work"
   ]
  },
  {
   "cell_type": "markdown",
   "metadata": {},
   "source": [
    "For example, string instruments (like the guitar we saw above) have different strings that vibrate at different frequencies. When we hold down our left hand on one of the strings, it's changing the frequency of the note by changing the length of the string."
   ]
  },
  {
   "cell_type": "markdown",
   "metadata": {},
   "source": [
    "### Also, this is what distinguishes music from noise"
   ]
  },
  {
   "cell_type": "markdown",
   "metadata": {},
   "source": [
    "Instead of generating a regular sine wave with a single frequency, what if we just generated a signal with random numbers?"
   ]
  },
  {
   "cell_type": "code",
   "execution_count": null,
   "metadata": {},
   "outputs": [],
   "source": [
    "data = np.random.randn(44100)\n",
    "Audio(data, rate=44100, autoplay=False)"
   ]
  },
  {
   "cell_type": "markdown",
   "metadata": {},
   "source": [
    "Turns out nature also prefers patterns to randomness."
   ]
  },
  {
   "cell_type": "markdown",
   "metadata": {},
   "source": [
    "## Music and Multiplication"
   ]
  },
  {
   "cell_type": "markdown",
   "metadata": {},
   "source": [
    "Previous we saw a sine wave visualized in regular cycles. When we think in terms of cycles per second, it means that for a given root frequency f, any power of 2 times f will generate sine waves that start and end together."
   ]
  },
  {
   "cell_type": "code",
   "execution_count": null,
   "metadata": {},
   "outputs": [],
   "source": [
    "plt.plot(t, np.sin(2 * np.pi * 1 * t))\n",
    "plt.plot(t, np.sin(2 * np.pi * 2 * t))\n",
    "plt.plot(t, np.sin(2 * np.pi * 4 * t))"
   ]
  },
  {
   "cell_type": "markdown",
   "metadata": {},
   "source": [
    "### How do multiples of two sound?"
   ]
  },
  {
   "cell_type": "markdown",
   "metadata": {},
   "source": [
    "Visually we can clearly see the common pattern that all of these powers of 2 have. It turns out that there is a common pattern in the sound too"
   ]
  },
  {
   "cell_type": "code",
   "execution_count": null,
   "metadata": {},
   "outputs": [],
   "source": [
    "play(220) # choose a base frequency"
   ]
  },
  {
   "cell_type": "code",
   "execution_count": null,
   "metadata": {},
   "outputs": [],
   "source": [
    "play(220 * 2)"
   ]
  },
  {
   "cell_type": "code",
   "execution_count": null,
   "metadata": {},
   "outputs": [],
   "source": [
    "play(220 * 4)"
   ]
  },
  {
   "cell_type": "markdown",
   "metadata": {},
   "source": [
    "Sounds like they have the same \"quality\", just at a higher or lower level right? \n",
    "\n",
    "In music, we call the distance between these powers of two an \"octave\". \n",
    "\n",
    "Now, if you still remember your Greek/Latin word roots, you should immediately be saying, \"aha, octave means 8!\" \n",
    "\n",
    "Indeed if you played a piano keyboard, you'll see that there are 8 white keys between two keys of the same letter, representing that they're of the same base frequency but differ by a power of 2."
   ]
  },
  {
   "cell_type": "markdown",
   "metadata": {},
   "source": [
    "### OK, so where did the other notes go?"
   ]
  },
  {
   "cell_type": "markdown",
   "metadata": {},
   "source": [
    "### We can multiply by more than 2!"
   ]
  },
  {
   "cell_type": "code",
   "execution_count": null,
   "metadata": {},
   "outputs": [],
   "source": [
    "play(220)"
   ]
  },
  {
   "cell_type": "code",
   "execution_count": null,
   "metadata": {},
   "outputs": [],
   "source": [
    "play(220 * 3)"
   ]
  },
  {
   "cell_type": "code",
   "execution_count": null,
   "metadata": {},
   "outputs": [],
   "source": [
    "play(220 * 5)"
   ]
  },
  {
   "cell_type": "markdown",
   "metadata": {},
   "source": [
    "## Music and Fractions\n",
    "\n",
    "If we mapped out frequency multiples from 1–5, we'll see that they all represent different intervals between successive multiples. For example, going from 2x to 3x is called a \"perfect fifth\". 3x to 4x is a \"perfect fourth\". And 4x to 5x is a \"major third\"."
   ]
  },
  {
   "cell_type": "markdown",
   "metadata": {},
   "source": [
    "<div>\n",
    "  <img src=\"scales.png\" width=\"320\"/>\n",
    "</div>"
   ]
  },
  {
   "cell_type": "markdown",
   "metadata": {},
   "source": [
    "We can now use these relationships to fill in the octave. For example, a perfect fifth (so) is 3/2 times the base frequency and a perfect fourth (fa) is 4/3 times the base frequency. You can play the whole scale in the notebook."
   ]
  },
  {
   "cell_type": "code",
   "execution_count": null,
   "metadata": {},
   "outputs": [],
   "source": [
    "# Do - a deer a female deer\n",
    "root = 220\n",
    "do = lambda x: x\n",
    "play(do(root))"
   ]
  },
  {
   "cell_type": "code",
   "execution_count": null,
   "metadata": {},
   "outputs": [],
   "source": [
    "# Re - a drop of golden sunnnnn\n",
    "re = lambda x: x * 9 / 8\n",
    "play(re(root)) # \"major second\""
   ]
  },
  {
   "cell_type": "code",
   "execution_count": null,
   "metadata": {},
   "outputs": [],
   "source": [
    "# Mi - a name I call myself\n",
    "mi = lambda x: x * 5 / 4\n",
    "play(mi(root)) # \"major third\""
   ]
  },
  {
   "cell_type": "code",
   "execution_count": null,
   "metadata": {},
   "outputs": [],
   "source": [
    "# Fa - a long long way to run\n",
    "fa = lambda x: x * 4 / 3\n",
    "play(fa(root)) # \"perfect fourth\""
   ]
  },
  {
   "cell_type": "code",
   "execution_count": null,
   "metadata": {},
   "outputs": [],
   "source": [
    "# So - A needle pulling thread\n",
    "so = lambda x: x * 3 / 2\n",
    "play(so(root)) # \"perfect fifth\""
   ]
  },
  {
   "cell_type": "code",
   "execution_count": null,
   "metadata": {},
   "outputs": [],
   "source": [
    "# La - a note to follow so\n",
    "la = lambda x: x * 5 / 3\n",
    "play(la(root)) # \"major sixth\""
   ]
  },
  {
   "cell_type": "code",
   "execution_count": null,
   "metadata": {},
   "outputs": [],
   "source": [
    "# Te - a drink with jam and bread\n",
    "te = lambda x: x * 15 / 8\n",
    "play(te(root)) # \"major seventh\""
   ]
  },
  {
   "cell_type": "code",
   "execution_count": null,
   "metadata": {},
   "outputs": [],
   "source": [
    "# That will bring us back to Do, oh, oh, oh\n",
    "play(do(root * 2)) # "
   ]
  },
  {
   "cell_type": "markdown",
   "metadata": {},
   "source": [
    "This is just one particular type of tuning system called \"5-limit tuning\" (because we use multiples up to 5). There are other systems like 3-limit Pythagorean tuning, just intonation, and equal temperament, each with their own advantages and drawbacks with small differences in the actual sounds."
   ]
  },
  {
   "cell_type": "markdown",
   "metadata": {},
   "source": [
    "## Turns out music and math are closely related. They're both the universal language!"
   ]
  },
  {
   "cell_type": "markdown",
   "metadata": {},
   "source": [
    "It turns out music and math are pretty closely related. We've only explored the relationship between musical pitch and mathematical waves. Many other aspects of music like rhythm, meter, harmony, etc all have their parallels in mathematical concepts. So perhaps, math is the law of the universe, but it is through music that humans build an emotional connection to such abstract concepts."
   ]
  },
  {
   "cell_type": "markdown",
   "metadata": {},
   "source": [
    "Now, can you play melody using the Jupyter notebook? Notice how we've already defined the notes as functions. Here's an example to get you started"
   ]
  },
  {
   "cell_type": "code",
   "execution_count": null,
   "metadata": {},
   "outputs": [],
   "source": [
    "rest = lambda x: 0\n",
    "notes = [do, re, mi, do, do, re, mi, do, mi, fa, so, rest, mi, fa, so]\n",
    "\n",
    "root = 440\n",
    "frequencies = np.array([f(root) for f in notes])\n",
    "\n",
    "framerate = 44100\n",
    "t = np.linspace(0, len(notes) / 2, framerate * len(notes) / 2)[:-1]\n",
    "note_idx = np.floor(t * 2).astype(int)\n",
    "\n",
    "data = np.sin(2 * np.pi * frequencies[note_idx] * t)\n",
    "\n",
    "Audio(data, rate=framerate, autoplay=True)"
   ]
  }
 ],
 "metadata": {
  "kernelspec": {
   "display_name": "Python 3",
   "language": "python",
   "name": "python3"
  },
  "language_info": {
   "codemirror_mode": {
    "name": "ipython",
    "version": 3
   },
   "file_extension": ".py",
   "mimetype": "text/x-python",
   "name": "python",
   "nbconvert_exporter": "python",
   "pygments_lexer": "ipython3",
   "version": "3.7.4"
  }
 },
 "nbformat": 4,
 "nbformat_minor": 4
}
